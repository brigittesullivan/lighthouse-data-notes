{
 "cells": [
  {
   "attachments": {},
   "cell_type": "markdown",
   "metadata": {},
   "source": [
    "# Week 2 Day 1 Questions"
   ]
  },
  {
   "attachments": {},
   "cell_type": "markdown",
   "metadata": {},
   "source": [
    "1. Git hub walkthrough\n",
    "    1. Git hub - table of contents links not working - instructions incomplete\n",
    "    2. A gentle reminder to not copy/paste content from Compass into your assignment. _< ????"
   ]
  },
  {
   "attachments": {},
   "cell_type": "markdown",
   "metadata": {},
   "source": [
    "# Breakout Session 2"
   ]
  },
  {
   "attachments": {},
   "cell_type": "markdown",
   "metadata": {},
   "source": [
    "## Question 1. \n",
    "Why use this format over if statements?"
   ]
  },
  {
   "cell_type": "code",
   "execution_count": null,
   "metadata": {},
   "outputs": [],
   "source": [
    "temp = -15\n",
    "relative_humidity = 50\n",
    "uv_index = 6\n",
    "\n",
    "muggy = tem >= 25 AND relative_humidity >= 75\n",
    "Print (is it muggy?)\n",
    "print(muggy)\n",
    "\n"
   ]
  },
  {
   "attachments": {},
   "cell_type": "markdown",
   "metadata": {},
   "source": [
    "## Question 2. \n",
    "What is the principle on how to order elif statements correctly. In the session bryan demonstrated that this: \n"
   ]
  },
  {
   "cell_type": "code",
   "execution_count": null,
   "metadata": {},
   "outputs": [],
   "source": [
    "if temp > 30 AND (relative_humidity > 75 OR uv_index > 5):\n",
    "\tprint (heat warning is in effect)\n",
    "\telif temp <-15:\n",
    "\t\tprint (frostbite warning)\n",
    "\telif temp < -15 AND uv_index >5 :\n",
    "\t\tprint (frostbite warning and watch out for sunburns)\n",
    "\telse:\n",
    "\t\tprint(in other news…) "
   ]
  },
  {
   "attachments": {},
   "cell_type": "markdown",
   "metadata": {},
   "source": [
    "has a different result than this"
   ]
  },
  {
   "cell_type": "code",
   "execution_count": null,
   "metadata": {},
   "outputs": [],
   "source": [
    "if temp > 30 AND (relative_humidity > 75 OR uv_index > 5):\n",
    "\tprint (heat warning is in effect)\n",
    "\telif temp < -15 AND uv_index >5 :\n",
    "\t\tprint (frostbite warning and watch out for sunburns)\n",
    "\telif temp <-15:\n",
    "\t\tprint (frostbite warning)\t\n",
    "\telse:\n",
    "\t\tprint(in other news…) "
   ]
  },
  {
   "attachments": {},
   "cell_type": "markdown",
   "metadata": {},
   "source": [
    "## Question 3 \n",
    "What problem does adding distinct if statements solve?\n",
    "instead of doing elifs: "
   ]
  },
  {
   "cell_type": "code",
   "execution_count": null,
   "metadata": {},
   "outputs": [],
   "source": [
    "if temp > 30 AND (relative_humidity > 75 OR uv_index > 5):\n",
    "\tprint (heat warning is in effect)\n",
    "if temp < -15 AND uv_index >5 :\n",
    "\tprint (frostbite warning and watch out for sunburns)\n",
    "if temp <-15:\n",
    "\tprint (frostbite warning)\t\n",
    "else:\n",
    "\tprint(in other news…) "
   ]
  }
 ],
 "metadata": {
  "kernelspec": {
   "display_name": "Python 3",
   "language": "python",
   "name": "python3"
  },
  "language_info": {
   "name": "python",
   "version": "3.9.6 (default, Oct 18 2022, 12:41:40) \n[Clang 14.0.0 (clang-1400.0.29.202)]"
  },
  "orig_nbformat": 4,
  "vscode": {
   "interpreter": {
    "hash": "31f2aee4e71d21fbe5cf8b01ff0e069b9275f58929596ceb00d14d90e3e16cd6"
   }
  }
 },
 "nbformat": 4,
 "nbformat_minor": 2
}
